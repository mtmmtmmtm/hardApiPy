{
 "cells": [
  {
   "cell_type": "markdown",
   "metadata": {},
   "source": [
    "# Leap snapshot in a np.array:"
   ]
  },
  {
   "cell_type": "code",
   "execution_count": 17,
   "metadata": {
    "collapsed": false
   },
   "outputs": [
    {
     "name": "stdout",
     "output_type": "stream",
     "text": [
      " frame.timestamp =1000000+\n",
      " frame.timestamp =1000000+\n",
      " frame.timestamp =1000000"
     ]
    }
   ],
   "source": [
    "%matplotlib inline\n",
    "import LeapAPI.Leap as lp, sys, thread, time\n",
    "from LeapAPI.Leap import CircleGesture, KeyTapGesture, ScreenTapGesture, SwipeGesture\n",
    "import numpy as np\n",
    "from matplotlib import pyplot\n",
    "#import pandas as pd"
   ]
  },
  {
   "cell_type": "markdown",
   "metadata": {},
   "source": [
    "## Leap Listener:"
   ]
  },
  {
   "cell_type": "code",
   "execution_count": 18,
   "metadata": {
    "collapsed": false
   },
   "outputs": [
    {
     "name": "stdout",
     "output_type": "stream",
     "text": [
      " frame.timestamp =1000000+\n",
      " frame.timestamp =1000000"
     ]
    }
   ],
   "source": [
    "class SampleListener(lp.Listener):\n",
    "    finger_names = ['Thumb', 'Index', 'Middle', 'Ring', 'Pinky']\n",
    "    bone_names = ['Metacarpal', 'Proximal', 'Intermediate', 'Distal']\n",
    "    state_names = ['STATE_INVALID', 'STATE_START', 'STATE_UPDATE', 'STATE_END']\n",
    "    timeOld = 0\n",
    "    x_ = np.eye(1, 16)\n",
    "    time_Cooldown = 1000000\n",
    "\n",
    "    def on_init(self, controller):\n",
    "        print (\"Initialized\")\n",
    "\n",
    "    def on_connect(self, controller):\n",
    "        print (\"Connected\")\n",
    "\n",
    "        # Enable gestures\n",
    "        controller.enable_gesture(lp.Gesture.TYPE_CIRCLE);\n",
    "        controller.enable_gesture(lp.Gesture.TYPE_KEY_TAP);\n",
    "        controller.enable_gesture(lp.Gesture.TYPE_SCREEN_TAP);\n",
    "        controller.enable_gesture(lp.Gesture.TYPE_SWIPE);\n",
    "\n",
    "    def on_disconnect(self, controller):\n",
    "        # Note: not dispatched when running in a debugger.\n",
    "        print (\"Disconnected\")\n",
    "\n",
    "    def on_exit(self, controller):\n",
    "        print (\"Exited\")\n",
    "\n",
    "    def on_frame(self, controller):\n",
    "        frame = controller.frame()\n",
    "        if(str(frame.hands[0]) !=\"Invalid Hand\"):\n",
    "            x = np.eye(1, 16)\n",
    "            normal = frame.hands[0].palm_normal\n",
    "            direction = frame.hands[0].direction\n",
    "            arm = frame.hands[0].arm\n",
    "            finger = frame.hands[0].fingers\n",
    "            x[0][0]=direction.pitch * lp.RAD_TO_DEG #\n",
    "            x[0][1]=direction.pitch * lp.RAD_TO_DEG\n",
    "            x[0][2]=direction.yaw * lp.RAD_TO_DEG\n",
    "            x[0][3]=arm.wrist_position[0] #\n",
    "            x[0][4]=arm.wrist_position[1]\n",
    "            x[0][5]=arm.wrist_position[2]\n",
    "            i = 6\n",
    "            for finger in frame.hands[0].fingers:\n",
    "                #for b in range(0, 4):\n",
    "                    for j in range(0, 2):\n",
    "                        x[0][i] = finger.bone(2).direction[j]\n",
    "                        i += 1\n",
    "\n",
    "\n",
    "            #\n",
    "           # sys.stdout.write('\\rf =' + str(x)) #x[0][7]\n",
    "            #sys.stdout.flush()1\n",
    "\n",
    "            if frame.timestamp-self.timeOld > self.time_Cooldown:\n",
    "                print(str(x-self.x_) + \"\\n\") #print error\n",
    "                self.x_ = x\n",
    "                self.timeOld=frame.timestamp\n",
    "        else:\n",
    "            self.timeOld = frame.timestamp\n",
    "        #for hand in frame.hands:\n",
    "        #    print()"
   ]
  },
  {
   "cell_type": "markdown",
   "metadata": {},
   "source": [
    "## Main:"
   ]
  },
  {
   "cell_type": "code",
   "execution_count": 19,
   "metadata": {
    "collapsed": false
   },
   "outputs": [
    {
     "name": "stdout",
     "output_type": "stream",
     "text": [
      "Exited\n",
      "Initialized\n",
      "Connected\n"
     ]
    },
    {
     "data": {
      "text/plain": [
       "True"
      ]
     },
     "execution_count": 19,
     "metadata": {},
     "output_type": "execute_result"
    }
   ],
   "source": [
    "controller = lp.Controller()\n",
    "listener = SampleListener()\n",
    "controller.add_listener(listener)"
   ]
  },
  {
   "cell_type": "code",
   "execution_count": null,
   "metadata": {
    "collapsed": true
   },
   "outputs": [],
   "source": [
    ""
   ]
  }
 ],
 "metadata": {
  "kernelspec": {
   "display_name": "Python 2",
   "language": "python",
   "name": "python2"
  },
  "language_info": {
   "codemirror_mode": {
    "name": "ipython",
    "version": 2.0
   },
   "file_extension": ".py",
   "mimetype": "text/x-python",
   "name": "python",
   "nbconvert_exporter": "python",
   "pygments_lexer": "ipython2",
   "version": "2.7.13"
  }
 },
 "nbformat": 4,
 "nbformat_minor": 0
}