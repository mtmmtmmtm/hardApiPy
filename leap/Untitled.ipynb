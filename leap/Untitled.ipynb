{
 "cells": [
  {
   "cell_type": "markdown",
   "metadata": {},
   "source": [
    "# Leap snapshot in a np.array:"
   ]
  },
  {
   "cell_type": "code",
   "execution_count": 17,
   "metadata": {
    "collapsed": false
   },
   "outputs": [
    {
     "name": "stdout",
     "output_type": "stream",
     "text": [
      " frame.timestamp =1000000+\n",
      " frame.timestamp =1000000+\n",
      " frame.timestamp =1000000"
     ]
    }
   ],
   "source": [
    "%matplotlib inline\n",
    "import LeapAPI.Leap as lp, sys, thread, time\n",
    "from LeapAPI.Leap import CircleGesture, KeyTapGesture, ScreenTapGesture, SwipeGesture\n",
    "import numpy as np\n",
    "from matplotlib import pyplot\n",
    "#import pandas as pd"
   ]
  },
  {
   "cell_type": "code",
   "execution_count": 5,
   "metadata": {
    "collapsed": false
   },
   "outputs": [],
   "source": [
    "from tkinter import *\n",
    "def b1(event):\n",
    "     root.title(\"Левая кнопка мыши\")\n",
    "def b3(event):\n",
    "     root.title(\"Правая кнопка мыши\")\n",
    "def move(event):\n",
    "     root.title(\"Движение мышью\")\n",
    " \n",
    "root = Tk()\n",
    "root.minsize(width = 500, height=400)\n",
    " \n",
    "root.bind('<Button-1>',b1)\n",
    "root.bind('<Button-3>',b3)\n",
    "root.bind('<Motion>',move)\n",
    " \n",
    "root.mainloop() "
   ]
  },
  {
   "cell_type": "code",
   "execution_count": 12,
   "metadata": {
    "collapsed": false
   },
   "outputs": [
    {
     "name": "stdout",
     "output_type": "stream",
     "text": [
      "\u001b[2;30;42mInput answer:\u001b[0m\n"
     ]
    }
   ],
   "source": [
    "\n",
    "strC = lambda c,s: '\\x1b['+c+'m'+s+'\\x1b[0m'\n",
    "def print_format_table():\n",
    "    \"\"\"\n",
    "    prints table of formatted text format options\n",
    "    \"\"\"\n",
    "    for style in range(8):\n",
    "        for fg in range(30,38):\n",
    "            s1 = ''\n",
    "            for bg in range(40,48):\n",
    "                format = ';'.join([str(style), str(fg), str(bg)])\n",
    "                s1 += '\\x1b[%sm %s \\x1b[0m' % (format, format)\n",
    "            print(s1)\n",
    "        print('\\n')\n",
    "print(strC(\"2;30;42\",\"Input answer:\"))"
   ]
  },
  {
   "cell_type": "code",
   "execution_count": 6,
   "metadata": {
    "collapsed": true
   },
   "outputs": [],
   "source": [
    "from tkinter import *\n",
    " \n",
    "def exit_(event):\n",
    "     root.destroy()\n",
    "def caption(event):\n",
    "     t = ent.get()\n",
    "     lbl.configure(text = t)\n",
    " \n",
    "root = Tk()\n",
    " \n",
    "ent = Entry(root, width = 40)\n",
    "lbl = Label(root, width = 80)\n",
    " \n",
    "ent.pack()\n",
    "lbl.pack()\n",
    " \n",
    "ent.bind('<Return>',caption)\n",
    "root.bind('<Control-z>',exit_)\n",
    " \n",
    "root.mainloop() \n"
   ]
  },
  {
   "cell_type": "markdown",
   "metadata": {},
   "source": [
    "## Leap Listener:"
   ]
  },
  {
   "cell_type": "code",
   "execution_count": 6,
   "metadata": {
    "collapsed": false
   },
   "outputs": [
    {
     "ename": "NameError",
     "evalue": "name 'lp' is not defined",
     "output_type": "error",
     "traceback": [
      "\u001b[0;31m---------------------------------------------------------------------------\u001b[0m",
      "\u001b[0;31mNameError\u001b[0m                                 Traceback (most recent call last)",
      "\u001b[0;32m<ipython-input-6-4f9ab1920662>\u001b[0m in \u001b[0;36m<module>\u001b[0;34m()\u001b[0m\n\u001b[0;32m----> 1\u001b[0;31m \u001b[0;32mclass\u001b[0m \u001b[0mSampleListener\u001b[0m\u001b[0;34m(\u001b[0m\u001b[0mlp\u001b[0m\u001b[0;34m.\u001b[0m\u001b[0mListener\u001b[0m\u001b[0;34m)\u001b[0m\u001b[0;34m:\u001b[0m\u001b[0;34m\u001b[0m\u001b[0m\n\u001b[0m\u001b[1;32m      2\u001b[0m     \u001b[0mfinger_names\u001b[0m \u001b[0;34m=\u001b[0m \u001b[0;34m[\u001b[0m\u001b[0;34m'Thumb'\u001b[0m\u001b[0;34m,\u001b[0m \u001b[0;34m'Index'\u001b[0m\u001b[0;34m,\u001b[0m \u001b[0;34m'Middle'\u001b[0m\u001b[0;34m,\u001b[0m \u001b[0;34m'Ring'\u001b[0m\u001b[0;34m,\u001b[0m \u001b[0;34m'Pinky'\u001b[0m\u001b[0;34m]\u001b[0m\u001b[0;34m\u001b[0m\u001b[0m\n\u001b[1;32m      3\u001b[0m     \u001b[0mbone_names\u001b[0m \u001b[0;34m=\u001b[0m \u001b[0;34m[\u001b[0m\u001b[0;34m'Metacarpal'\u001b[0m\u001b[0;34m,\u001b[0m \u001b[0;34m'Proximal'\u001b[0m\u001b[0;34m,\u001b[0m \u001b[0;34m'Intermediate'\u001b[0m\u001b[0;34m,\u001b[0m \u001b[0;34m'Distal'\u001b[0m\u001b[0;34m]\u001b[0m\u001b[0;34m\u001b[0m\u001b[0m\n\u001b[1;32m      4\u001b[0m     \u001b[0mstate_names\u001b[0m \u001b[0;34m=\u001b[0m \u001b[0;34m[\u001b[0m\u001b[0;34m'STATE_INVALID'\u001b[0m\u001b[0;34m,\u001b[0m \u001b[0;34m'STATE_START'\u001b[0m\u001b[0;34m,\u001b[0m \u001b[0;34m'STATE_UPDATE'\u001b[0m\u001b[0;34m,\u001b[0m \u001b[0;34m'STATE_END'\u001b[0m\u001b[0;34m]\u001b[0m\u001b[0;34m\u001b[0m\u001b[0m\n\u001b[1;32m      5\u001b[0m     \u001b[0mtimeOld\u001b[0m \u001b[0;34m=\u001b[0m \u001b[0;36m0\u001b[0m\u001b[0;34m\u001b[0m\u001b[0m\n",
      "\u001b[0;31mNameError\u001b[0m: name 'lp' is not defined"
     ]
    }
   ],
   "source": [
    "class SampleListener(lp.Listener):\n",
    "    finger_names = ['Thumb', 'Index', 'Middle', 'Ring', 'Pinky']\n",
    "    bone_names = ['Metacarpal', 'Proximal', 'Intermediate', 'Distal']\n",
    "    state_names = ['STATE_INVALID', 'STATE_START', 'STATE_UPDATE', 'STATE_END']\n",
    "    timeOld = 0\n",
    "    x_ = np.eye(1, 16)\n",
    "    time_Cooldown = 1000000\n",
    "\n",
    "    def on_init(self, controller):\n",
    "        print (\"Initialized\")\n",
    "\n",
    "    def on_connect(self, controller):\n",
    "        print (\"Connected\")\n",
    "\n",
    "        # Enable gestures\n",
    "        controller.enable_gesture(lp.Gesture.TYPE_CIRCLE);\n",
    "        controller.enable_gesture(lp.Gesture.TYPE_KEY_TAP);\n",
    "        controller.enable_gesture(lp.Gesture.TYPE_SCREEN_TAP);\n",
    "        controller.enable_gesture(lp.Gesture.TYPE_SWIPE);\n",
    "\n",
    "    def on_disconnect(self, controller):\n",
    "        # Note: not dispatched when running in a debugger.\n",
    "        print (\"Disconnected\")\n",
    "\n",
    "    def on_exit(self, controller):\n",
    "        print (\"Exited\")\n",
    "\n",
    "    def on_frame(self, controller):\n",
    "        frame = controller.frame()\n",
    "        if(str(frame.hands[0]) !=\"Invalid Hand\"):\n",
    "            x = np.eye(1, 16)\n",
    "            normal = frame.hands[0].palm_normal\n",
    "            direction = frame.hands[0].direction\n",
    "            arm = frame.hands[0].arm\n",
    "            finger = frame.hands[0].fingers\n",
    "            x[0][0]=direction.pitch * lp.RAD_TO_DEG #\n",
    "            x[0][1]=direction.pitch * lp.RAD_TO_DEG\n",
    "            x[0][2]=direction.yaw * lp.RAD_TO_DEG\n",
    "            x[0][3]=arm.wrist_position[0] #\n",
    "            x[0][4]=arm.wrist_position[1]\n",
    "            x[0][5]=arm.wrist_position[2]\n",
    "            i = 6\n",
    "            for finger in frame.hands[0].fingers:\n",
    "                #for b in range(0, 4):\n",
    "                    for j in range(0, 2):\n",
    "                        x[0][i] = finger.bone(2).direction[j]\n",
    "                        i += 1\n",
    "\n",
    "\n",
    "            #\n",
    "           # sys.stdout.write('\\rf =' + str(x)) #x[0][7]\n",
    "            #sys.stdout.flush()1\n",
    "\n",
    "            if frame.timestamp-self.timeOld > self.time_Cooldown:\n",
    "                print(str(x-self.x_) + \"\\n\") #print error\n",
    "                self.x_ = x\n",
    "                self.timeOld=frame.timestamp\n",
    "        else:\n",
    "            self.timeOld = frame.timestamp\n",
    "        #for hand in frame.hands:\n",
    "        #    print()"
   ]
  },
  {
   "cell_type": "markdown",
   "metadata": {},
   "source": [
    "## Main:"
   ]
  },
  {
   "cell_type": "code",
   "execution_count": 7,
   "metadata": {
    "collapsed": false
   },
   "outputs": [
    {
     "ename": "NameError",
     "evalue": "name 'lp' is not defined",
     "output_type": "error",
     "traceback": [
      "\u001b[0;31m---------------------------------------------------------------------------\u001b[0m",
      "\u001b[0;31mNameError\u001b[0m                                 Traceback (most recent call last)",
      "\u001b[0;32m<ipython-input-7-53d87c7ee116>\u001b[0m in \u001b[0;36m<module>\u001b[0;34m()\u001b[0m\n\u001b[0;32m----> 1\u001b[0;31m \u001b[0mcontroller\u001b[0m \u001b[0;34m=\u001b[0m \u001b[0mlp\u001b[0m\u001b[0;34m.\u001b[0m\u001b[0mController\u001b[0m\u001b[0;34m(\u001b[0m\u001b[0;34m)\u001b[0m\u001b[0;34m\u001b[0m\u001b[0m\n\u001b[0m\u001b[1;32m      2\u001b[0m \u001b[0mlistener\u001b[0m \u001b[0;34m=\u001b[0m \u001b[0mSampleListener\u001b[0m\u001b[0;34m(\u001b[0m\u001b[0;34m)\u001b[0m\u001b[0;34m\u001b[0m\u001b[0m\n\u001b[1;32m      3\u001b[0m \u001b[0mcontroller\u001b[0m\u001b[0;34m.\u001b[0m\u001b[0madd_listener\u001b[0m\u001b[0;34m(\u001b[0m\u001b[0mlistener\u001b[0m\u001b[0;34m)\u001b[0m\u001b[0;34m\u001b[0m\u001b[0m\n",
      "\u001b[0;31mNameError\u001b[0m: name 'lp' is not defined"
     ]
    }
   ],
   "source": [
    "controller = lp.Controller()\n",
    "listener = SampleListener()\n",
    "controller.add_listener(listener)"
   ]
  },
  {
   "cell_type": "code",
   "execution_count": 8,
   "metadata": {
    "collapsed": false
   },
   "outputs": [
    {
     "name": "stdout",
     "output_type": "stream",
     "text": [
      "\u001b[0;30;40m 0;30;40 \u001b[0m\u001b[0;30;41m 0;30;41 \u001b[0m\u001b[0;30;42m 0;30;42 \u001b[0m\u001b[0;30;43m 0;30;43 \u001b[0m\u001b[0;30;44m 0;30;44 \u001b[0m\u001b[0;30;45m 0;30;45 \u001b[0m\u001b[0;30;46m 0;30;46 \u001b[0m\u001b[0;30;47m 0;30;47 \u001b[0m\n",
      "\u001b[0;31;40m 0;31;40 \u001b[0m\u001b[0;31;41m 0;31;41 \u001b[0m\u001b[0;31;42m 0;31;42 \u001b[0m\u001b[0;31;43m 0;31;43 \u001b[0m\u001b[0;31;44m 0;31;44 \u001b[0m\u001b[0;31;45m 0;31;45 \u001b[0m\u001b[0;31;46m 0;31;46 \u001b[0m\u001b[0;31;47m 0;31;47 \u001b[0m\n",
      "\u001b[0;32;40m 0;32;40 \u001b[0m\u001b[0;32;41m 0;32;41 \u001b[0m\u001b[0;32;42m 0;32;42 \u001b[0m\u001b[0;32;43m 0;32;43 \u001b[0m\u001b[0;32;44m 0;32;44 \u001b[0m\u001b[0;32;45m 0;32;45 \u001b[0m\u001b[0;32;46m 0;32;46 \u001b[0m\u001b[0;32;47m 0;32;47 \u001b[0m\n",
      "\u001b[0;33;40m 0;33;40 \u001b[0m\u001b[0;33;41m 0;33;41 \u001b[0m\u001b[0;33;42m 0;33;42 \u001b[0m\u001b[0;33;43m 0;33;43 \u001b[0m\u001b[0;33;44m 0;33;44 \u001b[0m\u001b[0;33;45m 0;33;45 \u001b[0m\u001b[0;33;46m 0;33;46 \u001b[0m\u001b[0;33;47m 0;33;47 \u001b[0m\n",
      "\u001b[0;34;40m 0;34;40 \u001b[0m\u001b[0;34;41m 0;34;41 \u001b[0m\u001b[0;34;42m 0;34;42 \u001b[0m\u001b[0;34;43m 0;34;43 \u001b[0m\u001b[0;34;44m 0;34;44 \u001b[0m\u001b[0;34;45m 0;34;45 \u001b[0m\u001b[0;34;46m 0;34;46 \u001b[0m\u001b[0;34;47m 0;34;47 \u001b[0m\n",
      "\u001b[0;35;40m 0;35;40 \u001b[0m\u001b[0;35;41m 0;35;41 \u001b[0m\u001b[0;35;42m 0;35;42 \u001b[0m\u001b[0;35;43m 0;35;43 \u001b[0m\u001b[0;35;44m 0;35;44 \u001b[0m\u001b[0;35;45m 0;35;45 \u001b[0m\u001b[0;35;46m 0;35;46 \u001b[0m\u001b[0;35;47m 0;35;47 \u001b[0m\n",
      "\u001b[0;36;40m 0;36;40 \u001b[0m\u001b[0;36;41m 0;36;41 \u001b[0m\u001b[0;36;42m 0;36;42 \u001b[0m\u001b[0;36;43m 0;36;43 \u001b[0m\u001b[0;36;44m 0;36;44 \u001b[0m\u001b[0;36;45m 0;36;45 \u001b[0m\u001b[0;36;46m 0;36;46 \u001b[0m\u001b[0;36;47m 0;36;47 \u001b[0m\n",
      "\u001b[0;37;40m 0;37;40 \u001b[0m\u001b[0;37;41m 0;37;41 \u001b[0m\u001b[0;37;42m 0;37;42 \u001b[0m\u001b[0;37;43m 0;37;43 \u001b[0m\u001b[0;37;44m 0;37;44 \u001b[0m\u001b[0;37;45m 0;37;45 \u001b[0m\u001b[0;37;46m 0;37;46 \u001b[0m\u001b[0;37;47m 0;37;47 \u001b[0m\n",
      "\n",
      "\n",
      "\u001b[1;30;40m 1;30;40 \u001b[0m\u001b[1;30;41m 1;30;41 \u001b[0m\u001b[1;30;42m 1;30;42 \u001b[0m\u001b[1;30;43m 1;30;43 \u001b[0m\u001b[1;30;44m 1;30;44 \u001b[0m\u001b[1;30;45m 1;30;45 \u001b[0m\u001b[1;30;46m 1;30;46 \u001b[0m\u001b[1;30;47m 1;30;47 \u001b[0m\n",
      "\u001b[1;31;40m 1;31;40 \u001b[0m\u001b[1;31;41m 1;31;41 \u001b[0m\u001b[1;31;42m 1;31;42 \u001b[0m\u001b[1;31;43m 1;31;43 \u001b[0m\u001b[1;31;44m 1;31;44 \u001b[0m\u001b[1;31;45m 1;31;45 \u001b[0m\u001b[1;31;46m 1;31;46 \u001b[0m\u001b[1;31;47m 1;31;47 \u001b[0m\n",
      "\u001b[1;32;40m 1;32;40 \u001b[0m\u001b[1;32;41m 1;32;41 \u001b[0m\u001b[1;32;42m 1;32;42 \u001b[0m\u001b[1;32;43m 1;32;43 \u001b[0m\u001b[1;32;44m 1;32;44 \u001b[0m\u001b[1;32;45m 1;32;45 \u001b[0m\u001b[1;32;46m 1;32;46 \u001b[0m\u001b[1;32;47m 1;32;47 \u001b[0m\n",
      "\u001b[1;33;40m 1;33;40 \u001b[0m\u001b[1;33;41m 1;33;41 \u001b[0m\u001b[1;33;42m 1;33;42 \u001b[0m\u001b[1;33;43m 1;33;43 \u001b[0m\u001b[1;33;44m 1;33;44 \u001b[0m\u001b[1;33;45m 1;33;45 \u001b[0m\u001b[1;33;46m 1;33;46 \u001b[0m\u001b[1;33;47m 1;33;47 \u001b[0m\n",
      "\u001b[1;34;40m 1;34;40 \u001b[0m\u001b[1;34;41m 1;34;41 \u001b[0m\u001b[1;34;42m 1;34;42 \u001b[0m\u001b[1;34;43m 1;34;43 \u001b[0m\u001b[1;34;44m 1;34;44 \u001b[0m\u001b[1;34;45m 1;34;45 \u001b[0m\u001b[1;34;46m 1;34;46 \u001b[0m\u001b[1;34;47m 1;34;47 \u001b[0m\n",
      "\u001b[1;35;40m 1;35;40 \u001b[0m\u001b[1;35;41m 1;35;41 \u001b[0m\u001b[1;35;42m 1;35;42 \u001b[0m\u001b[1;35;43m 1;35;43 \u001b[0m\u001b[1;35;44m 1;35;44 \u001b[0m\u001b[1;35;45m 1;35;45 \u001b[0m\u001b[1;35;46m 1;35;46 \u001b[0m\u001b[1;35;47m 1;35;47 \u001b[0m\n",
      "\u001b[1;36;40m 1;36;40 \u001b[0m\u001b[1;36;41m 1;36;41 \u001b[0m\u001b[1;36;42m 1;36;42 \u001b[0m\u001b[1;36;43m 1;36;43 \u001b[0m\u001b[1;36;44m 1;36;44 \u001b[0m\u001b[1;36;45m 1;36;45 \u001b[0m\u001b[1;36;46m 1;36;46 \u001b[0m\u001b[1;36;47m 1;36;47 \u001b[0m\n",
      "\u001b[1;37;40m 1;37;40 \u001b[0m\u001b[1;37;41m 1;37;41 \u001b[0m\u001b[1;37;42m 1;37;42 \u001b[0m\u001b[1;37;43m 1;37;43 \u001b[0m\u001b[1;37;44m 1;37;44 \u001b[0m\u001b[1;37;45m 1;37;45 \u001b[0m\u001b[1;37;46m 1;37;46 \u001b[0m\u001b[1;37;47m 1;37;47 \u001b[0m\n",
      "\n",
      "\n",
      "\u001b[2;30;40m 2;30;40 \u001b[0m\u001b[2;30;41m 2;30;41 \u001b[0m\u001b[2;30;42m 2;30;42 \u001b[0m\u001b[2;30;43m 2;30;43 \u001b[0m\u001b[2;30;44m 2;30;44 \u001b[0m\u001b[2;30;45m 2;30;45 \u001b[0m\u001b[2;30;46m 2;30;46 \u001b[0m\u001b[2;30;47m 2;30;47 \u001b[0m\n",
      "\u001b[2;31;40m 2;31;40 \u001b[0m\u001b[2;31;41m 2;31;41 \u001b[0m\u001b[2;31;42m 2;31;42 \u001b[0m\u001b[2;31;43m 2;31;43 \u001b[0m\u001b[2;31;44m 2;31;44 \u001b[0m\u001b[2;31;45m 2;31;45 \u001b[0m\u001b[2;31;46m 2;31;46 \u001b[0m\u001b[2;31;47m 2;31;47 \u001b[0m\n",
      "\u001b[2;32;40m 2;32;40 \u001b[0m\u001b[2;32;41m 2;32;41 \u001b[0m\u001b[2;32;42m 2;32;42 \u001b[0m\u001b[2;32;43m 2;32;43 \u001b[0m\u001b[2;32;44m 2;32;44 \u001b[0m\u001b[2;32;45m 2;32;45 \u001b[0m\u001b[2;32;46m 2;32;46 \u001b[0m\u001b[2;32;47m 2;32;47 \u001b[0m\n",
      "\u001b[2;33;40m 2;33;40 \u001b[0m\u001b[2;33;41m 2;33;41 \u001b[0m\u001b[2;33;42m 2;33;42 \u001b[0m\u001b[2;33;43m 2;33;43 \u001b[0m\u001b[2;33;44m 2;33;44 \u001b[0m\u001b[2;33;45m 2;33;45 \u001b[0m\u001b[2;33;46m 2;33;46 \u001b[0m\u001b[2;33;47m 2;33;47 \u001b[0m\n",
      "\u001b[2;34;40m 2;34;40 \u001b[0m\u001b[2;34;41m 2;34;41 \u001b[0m\u001b[2;34;42m 2;34;42 \u001b[0m\u001b[2;34;43m 2;34;43 \u001b[0m\u001b[2;34;44m 2;34;44 \u001b[0m\u001b[2;34;45m 2;34;45 \u001b[0m\u001b[2;34;46m 2;34;46 \u001b[0m\u001b[2;34;47m 2;34;47 \u001b[0m\n",
      "\u001b[2;35;40m 2;35;40 \u001b[0m\u001b[2;35;41m 2;35;41 \u001b[0m\u001b[2;35;42m 2;35;42 \u001b[0m\u001b[2;35;43m 2;35;43 \u001b[0m\u001b[2;35;44m 2;35;44 \u001b[0m\u001b[2;35;45m 2;35;45 \u001b[0m\u001b[2;35;46m 2;35;46 \u001b[0m\u001b[2;35;47m 2;35;47 \u001b[0m\n",
      "\u001b[2;36;40m 2;36;40 \u001b[0m\u001b[2;36;41m 2;36;41 \u001b[0m\u001b[2;36;42m 2;36;42 \u001b[0m\u001b[2;36;43m 2;36;43 \u001b[0m\u001b[2;36;44m 2;36;44 \u001b[0m\u001b[2;36;45m 2;36;45 \u001b[0m\u001b[2;36;46m 2;36;46 \u001b[0m\u001b[2;36;47m 2;36;47 \u001b[0m\n",
      "\u001b[2;37;40m 2;37;40 \u001b[0m\u001b[2;37;41m 2;37;41 \u001b[0m\u001b[2;37;42m 2;37;42 \u001b[0m\u001b[2;37;43m 2;37;43 \u001b[0m\u001b[2;37;44m 2;37;44 \u001b[0m\u001b[2;37;45m 2;37;45 \u001b[0m\u001b[2;37;46m 2;37;46 \u001b[0m\u001b[2;37;47m 2;37;47 \u001b[0m\n",
      "\n",
      "\n",
      "\u001b[3;30;40m 3;30;40 \u001b[0m\u001b[3;30;41m 3;30;41 \u001b[0m\u001b[3;30;42m 3;30;42 \u001b[0m\u001b[3;30;43m 3;30;43 \u001b[0m\u001b[3;30;44m 3;30;44 \u001b[0m\u001b[3;30;45m 3;30;45 \u001b[0m\u001b[3;30;46m 3;30;46 \u001b[0m\u001b[3;30;47m 3;30;47 \u001b[0m\n",
      "\u001b[3;31;40m 3;31;40 \u001b[0m\u001b[3;31;41m 3;31;41 \u001b[0m\u001b[3;31;42m 3;31;42 \u001b[0m\u001b[3;31;43m 3;31;43 \u001b[0m\u001b[3;31;44m 3;31;44 \u001b[0m\u001b[3;31;45m 3;31;45 \u001b[0m\u001b[3;31;46m 3;31;46 \u001b[0m\u001b[3;31;47m 3;31;47 \u001b[0m\n",
      "\u001b[3;32;40m 3;32;40 \u001b[0m\u001b[3;32;41m 3;32;41 \u001b[0m\u001b[3;32;42m 3;32;42 \u001b[0m\u001b[3;32;43m 3;32;43 \u001b[0m\u001b[3;32;44m 3;32;44 \u001b[0m\u001b[3;32;45m 3;32;45 \u001b[0m\u001b[3;32;46m 3;32;46 \u001b[0m\u001b[3;32;47m 3;32;47 \u001b[0m\n",
      "\u001b[3;33;40m 3;33;40 \u001b[0m\u001b[3;33;41m 3;33;41 \u001b[0m\u001b[3;33;42m 3;33;42 \u001b[0m\u001b[3;33;43m 3;33;43 \u001b[0m\u001b[3;33;44m 3;33;44 \u001b[0m\u001b[3;33;45m 3;33;45 \u001b[0m\u001b[3;33;46m 3;33;46 \u001b[0m\u001b[3;33;47m 3;33;47 \u001b[0m\n",
      "\u001b[3;34;40m 3;34;40 \u001b[0m\u001b[3;34;41m 3;34;41 \u001b[0m\u001b[3;34;42m 3;34;42 \u001b[0m\u001b[3;34;43m 3;34;43 \u001b[0m\u001b[3;34;44m 3;34;44 \u001b[0m\u001b[3;34;45m 3;34;45 \u001b[0m\u001b[3;34;46m 3;34;46 \u001b[0m\u001b[3;34;47m 3;34;47 \u001b[0m\n",
      "\u001b[3;35;40m 3;35;40 \u001b[0m\u001b[3;35;41m 3;35;41 \u001b[0m\u001b[3;35;42m 3;35;42 \u001b[0m\u001b[3;35;43m 3;35;43 \u001b[0m\u001b[3;35;44m 3;35;44 \u001b[0m\u001b[3;35;45m 3;35;45 \u001b[0m\u001b[3;35;46m 3;35;46 \u001b[0m\u001b[3;35;47m 3;35;47 \u001b[0m\n",
      "\u001b[3;36;40m 3;36;40 \u001b[0m\u001b[3;36;41m 3;36;41 \u001b[0m\u001b[3;36;42m 3;36;42 \u001b[0m\u001b[3;36;43m 3;36;43 \u001b[0m\u001b[3;36;44m 3;36;44 \u001b[0m\u001b[3;36;45m 3;36;45 \u001b[0m\u001b[3;36;46m 3;36;46 \u001b[0m\u001b[3;36;47m 3;36;47 \u001b[0m\n",
      "\u001b[3;37;40m 3;37;40 \u001b[0m\u001b[3;37;41m 3;37;41 \u001b[0m\u001b[3;37;42m 3;37;42 \u001b[0m\u001b[3;37;43m 3;37;43 \u001b[0m\u001b[3;37;44m 3;37;44 \u001b[0m\u001b[3;37;45m 3;37;45 \u001b[0m\u001b[3;37;46m 3;37;46 \u001b[0m\u001b[3;37;47m 3;37;47 \u001b[0m\n",
      "\n",
      "\n",
      "\u001b[4;30;40m 4;30;40 \u001b[0m\u001b[4;30;41m 4;30;41 \u001b[0m\u001b[4;30;42m 4;30;42 \u001b[0m\u001b[4;30;43m 4;30;43 \u001b[0m\u001b[4;30;44m 4;30;44 \u001b[0m\u001b[4;30;45m 4;30;45 \u001b[0m\u001b[4;30;46m 4;30;46 \u001b[0m\u001b[4;30;47m 4;30;47 \u001b[0m\n",
      "\u001b[4;31;40m 4;31;40 \u001b[0m\u001b[4;31;41m 4;31;41 \u001b[0m\u001b[4;31;42m 4;31;42 \u001b[0m\u001b[4;31;43m 4;31;43 \u001b[0m\u001b[4;31;44m 4;31;44 \u001b[0m\u001b[4;31;45m 4;31;45 \u001b[0m\u001b[4;31;46m 4;31;46 \u001b[0m\u001b[4;31;47m 4;31;47 \u001b[0m\n",
      "\u001b[4;32;40m 4;32;40 \u001b[0m\u001b[4;32;41m 4;32;41 \u001b[0m\u001b[4;32;42m 4;32;42 \u001b[0m\u001b[4;32;43m 4;32;43 \u001b[0m\u001b[4;32;44m 4;32;44 \u001b[0m\u001b[4;32;45m 4;32;45 \u001b[0m\u001b[4;32;46m 4;32;46 \u001b[0m\u001b[4;32;47m 4;32;47 \u001b[0m\n",
      "\u001b[4;33;40m 4;33;40 \u001b[0m\u001b[4;33;41m 4;33;41 \u001b[0m\u001b[4;33;42m 4;33;42 \u001b[0m\u001b[4;33;43m 4;33;43 \u001b[0m\u001b[4;33;44m 4;33;44 \u001b[0m\u001b[4;33;45m 4;33;45 \u001b[0m\u001b[4;33;46m 4;33;46 \u001b[0m\u001b[4;33;47m 4;33;47 \u001b[0m\n",
      "\u001b[4;34;40m 4;34;40 \u001b[0m\u001b[4;34;41m 4;34;41 \u001b[0m\u001b[4;34;42m 4;34;42 \u001b[0m\u001b[4;34;43m 4;34;43 \u001b[0m\u001b[4;34;44m 4;34;44 \u001b[0m\u001b[4;34;45m 4;34;45 \u001b[0m\u001b[4;34;46m 4;34;46 \u001b[0m\u001b[4;34;47m 4;34;47 \u001b[0m\n",
      "\u001b[4;35;40m 4;35;40 \u001b[0m\u001b[4;35;41m 4;35;41 \u001b[0m\u001b[4;35;42m 4;35;42 \u001b[0m\u001b[4;35;43m 4;35;43 \u001b[0m\u001b[4;35;44m 4;35;44 \u001b[0m\u001b[4;35;45m 4;35;45 \u001b[0m\u001b[4;35;46m 4;35;46 \u001b[0m\u001b[4;35;47m 4;35;47 \u001b[0m\n",
      "\u001b[4;36;40m 4;36;40 \u001b[0m\u001b[4;36;41m 4;36;41 \u001b[0m\u001b[4;36;42m 4;36;42 \u001b[0m\u001b[4;36;43m 4;36;43 \u001b[0m\u001b[4;36;44m 4;36;44 \u001b[0m\u001b[4;36;45m 4;36;45 \u001b[0m\u001b[4;36;46m 4;36;46 \u001b[0m\u001b[4;36;47m 4;36;47 \u001b[0m\n",
      "\u001b[4;37;40m 4;37;40 \u001b[0m\u001b[4;37;41m 4;37;41 \u001b[0m\u001b[4;37;42m 4;37;42 \u001b[0m\u001b[4;37;43m 4;37;43 \u001b[0m\u001b[4;37;44m 4;37;44 \u001b[0m\u001b[4;37;45m 4;37;45 \u001b[0m\u001b[4;37;46m 4;37;46 \u001b[0m\u001b[4;37;47m 4;37;47 \u001b[0m\n",
      "\n",
      "\n",
      "\u001b[5;30;40m 5;30;40 \u001b[0m\u001b[5;30;41m 5;30;41 \u001b[0m\u001b[5;30;42m 5;30;42 \u001b[0m\u001b[5;30;43m 5;30;43 \u001b[0m\u001b[5;30;44m 5;30;44 \u001b[0m\u001b[5;30;45m 5;30;45 \u001b[0m\u001b[5;30;46m 5;30;46 \u001b[0m\u001b[5;30;47m 5;30;47 \u001b[0m\n",
      "\u001b[5;31;40m 5;31;40 \u001b[0m\u001b[5;31;41m 5;31;41 \u001b[0m\u001b[5;31;42m 5;31;42 \u001b[0m\u001b[5;31;43m 5;31;43 \u001b[0m\u001b[5;31;44m 5;31;44 \u001b[0m\u001b[5;31;45m 5;31;45 \u001b[0m\u001b[5;31;46m 5;31;46 \u001b[0m\u001b[5;31;47m 5;31;47 \u001b[0m\n",
      "\u001b[5;32;40m 5;32;40 \u001b[0m\u001b[5;32;41m 5;32;41 \u001b[0m\u001b[5;32;42m 5;32;42 \u001b[0m\u001b[5;32;43m 5;32;43 \u001b[0m\u001b[5;32;44m 5;32;44 \u001b[0m\u001b[5;32;45m 5;32;45 \u001b[0m\u001b[5;32;46m 5;32;46 \u001b[0m\u001b[5;32;47m 5;32;47 \u001b[0m\n",
      "\u001b[5;33;40m 5;33;40 \u001b[0m\u001b[5;33;41m 5;33;41 \u001b[0m\u001b[5;33;42m 5;33;42 \u001b[0m\u001b[5;33;43m 5;33;43 \u001b[0m\u001b[5;33;44m 5;33;44 \u001b[0m\u001b[5;33;45m 5;33;45 \u001b[0m\u001b[5;33;46m 5;33;46 \u001b[0m\u001b[5;33;47m 5;33;47 \u001b[0m\n",
      "\u001b[5;34;40m 5;34;40 \u001b[0m\u001b[5;34;41m 5;34;41 \u001b[0m\u001b[5;34;42m 5;34;42 \u001b[0m\u001b[5;34;43m 5;34;43 \u001b[0m\u001b[5;34;44m 5;34;44 \u001b[0m\u001b[5;34;45m 5;34;45 \u001b[0m\u001b[5;34;46m 5;34;46 \u001b[0m\u001b[5;34;47m 5;34;47 \u001b[0m\n",
      "\u001b[5;35;40m 5;35;40 \u001b[0m\u001b[5;35;41m 5;35;41 \u001b[0m\u001b[5;35;42m 5;35;42 \u001b[0m\u001b[5;35;43m 5;35;43 \u001b[0m\u001b[5;35;44m 5;35;44 \u001b[0m\u001b[5;35;45m 5;35;45 \u001b[0m\u001b[5;35;46m 5;35;46 \u001b[0m\u001b[5;35;47m 5;35;47 \u001b[0m\n",
      "\u001b[5;36;40m 5;36;40 \u001b[0m\u001b[5;36;41m 5;36;41 \u001b[0m\u001b[5;36;42m 5;36;42 \u001b[0m\u001b[5;36;43m 5;36;43 \u001b[0m\u001b[5;36;44m 5;36;44 \u001b[0m\u001b[5;36;45m 5;36;45 \u001b[0m\u001b[5;36;46m 5;36;46 \u001b[0m\u001b[5;36;47m 5;36;47 \u001b[0m\n",
      "\u001b[5;37;40m 5;37;40 \u001b[0m\u001b[5;37;41m 5;37;41 \u001b[0m\u001b[5;37;42m 5;37;42 \u001b[0m\u001b[5;37;43m 5;37;43 \u001b[0m\u001b[5;37;44m 5;37;44 \u001b[0m\u001b[5;37;45m 5;37;45 \u001b[0m\u001b[5;37;46m 5;37;46 \u001b[0m\u001b[5;37;47m 5;37;47 \u001b[0m\n",
      "\n",
      "\n",
      "\u001b[6;30;40m 6;30;40 \u001b[0m\u001b[6;30;41m 6;30;41 \u001b[0m\u001b[6;30;42m 6;30;42 \u001b[0m\u001b[6;30;43m 6;30;43 \u001b[0m\u001b[6;30;44m 6;30;44 \u001b[0m\u001b[6;30;45m 6;30;45 \u001b[0m\u001b[6;30;46m 6;30;46 \u001b[0m\u001b[6;30;47m 6;30;47 \u001b[0m\n",
      "\u001b[6;31;40m 6;31;40 \u001b[0m\u001b[6;31;41m 6;31;41 \u001b[0m\u001b[6;31;42m 6;31;42 \u001b[0m\u001b[6;31;43m 6;31;43 \u001b[0m\u001b[6;31;44m 6;31;44 \u001b[0m\u001b[6;31;45m 6;31;45 \u001b[0m\u001b[6;31;46m 6;31;46 \u001b[0m\u001b[6;31;47m 6;31;47 \u001b[0m\n",
      "\u001b[6;32;40m 6;32;40 \u001b[0m\u001b[6;32;41m 6;32;41 \u001b[0m\u001b[6;32;42m 6;32;42 \u001b[0m\u001b[6;32;43m 6;32;43 \u001b[0m\u001b[6;32;44m 6;32;44 \u001b[0m\u001b[6;32;45m 6;32;45 \u001b[0m\u001b[6;32;46m 6;32;46 \u001b[0m\u001b[6;32;47m 6;32;47 \u001b[0m\n",
      "\u001b[6;33;40m 6;33;40 \u001b[0m\u001b[6;33;41m 6;33;41 \u001b[0m\u001b[6;33;42m 6;33;42 \u001b[0m\u001b[6;33;43m 6;33;43 \u001b[0m\u001b[6;33;44m 6;33;44 \u001b[0m\u001b[6;33;45m 6;33;45 \u001b[0m\u001b[6;33;46m 6;33;46 \u001b[0m\u001b[6;33;47m 6;33;47 \u001b[0m\n",
      "\u001b[6;34;40m 6;34;40 \u001b[0m\u001b[6;34;41m 6;34;41 \u001b[0m\u001b[6;34;42m 6;34;42 \u001b[0m\u001b[6;34;43m 6;34;43 \u001b[0m\u001b[6;34;44m 6;34;44 \u001b[0m\u001b[6;34;45m 6;34;45 \u001b[0m\u001b[6;34;46m 6;34;46 \u001b[0m\u001b[6;34;47m 6;34;47 \u001b[0m\n",
      "\u001b[6;35;40m 6;35;40 \u001b[0m\u001b[6;35;41m 6;35;41 \u001b[0m\u001b[6;35;42m 6;35;42 \u001b[0m\u001b[6;35;43m 6;35;43 \u001b[0m\u001b[6;35;44m 6;35;44 \u001b[0m\u001b[6;35;45m 6;35;45 \u001b[0m\u001b[6;35;46m 6;35;46 \u001b[0m\u001b[6;35;47m 6;35;47 \u001b[0m\n",
      "\u001b[6;36;40m 6;36;40 \u001b[0m\u001b[6;36;41m 6;36;41 \u001b[0m\u001b[6;36;42m 6;36;42 \u001b[0m\u001b[6;36;43m 6;36;43 \u001b[0m\u001b[6;36;44m 6;36;44 \u001b[0m\u001b[6;36;45m 6;36;45 \u001b[0m\u001b[6;36;46m 6;36;46 \u001b[0m\u001b[6;36;47m 6;36;47 \u001b[0m\n",
      "\u001b[6;37;40m 6;37;40 \u001b[0m\u001b[6;37;41m 6;37;41 \u001b[0m\u001b[6;37;42m 6;37;42 \u001b[0m\u001b[6;37;43m 6;37;43 \u001b[0m\u001b[6;37;44m 6;37;44 \u001b[0m\u001b[6;37;45m 6;37;45 \u001b[0m\u001b[6;37;46m 6;37;46 \u001b[0m\u001b[6;37;47m 6;37;47 \u001b[0m\n",
      "\n",
      "\n",
      "\u001b[7;30;40m 7;30;40 \u001b[0m\u001b[7;30;41m 7;30;41 \u001b[0m\u001b[7;30;42m 7;30;42 \u001b[0m\u001b[7;30;43m 7;30;43 \u001b[0m\u001b[7;30;44m 7;30;44 \u001b[0m\u001b[7;30;45m 7;30;45 \u001b[0m\u001b[7;30;46m 7;30;46 \u001b[0m\u001b[7;30;47m 7;30;47 \u001b[0m\n",
      "\u001b[7;31;40m 7;31;40 \u001b[0m\u001b[7;31;41m 7;31;41 \u001b[0m\u001b[7;31;42m 7;31;42 \u001b[0m\u001b[7;31;43m 7;31;43 \u001b[0m\u001b[7;31;44m 7;31;44 \u001b[0m\u001b[7;31;45m 7;31;45 \u001b[0m\u001b[7;31;46m 7;31;46 \u001b[0m\u001b[7;31;47m 7;31;47 \u001b[0m\n",
      "\u001b[7;32;40m 7;32;40 \u001b[0m\u001b[7;32;41m 7;32;41 \u001b[0m\u001b[7;32;42m 7;32;42 \u001b[0m\u001b[7;32;43m 7;32;43 \u001b[0m\u001b[7;32;44m 7;32;44 \u001b[0m\u001b[7;32;45m 7;32;45 \u001b[0m\u001b[7;32;46m 7;32;46 \u001b[0m\u001b[7;32;47m 7;32;47 \u001b[0m\n",
      "\u001b[7;33;40m 7;33;40 \u001b[0m\u001b[7;33;41m 7;33;41 \u001b[0m\u001b[7;33;42m 7;33;42 \u001b[0m\u001b[7;33;43m 7;33;43 \u001b[0m\u001b[7;33;44m 7;33;44 \u001b[0m\u001b[7;33;45m 7;33;45 \u001b[0m\u001b[7;33;46m 7;33;46 \u001b[0m\u001b[7;33;47m 7;33;47 \u001b[0m\n",
      "\u001b[7;34;40m 7;34;40 \u001b[0m\u001b[7;34;41m 7;34;41 \u001b[0m\u001b[7;34;42m 7;34;42 \u001b[0m\u001b[7;34;43m 7;34;43 \u001b[0m\u001b[7;34;44m 7;34;44 \u001b[0m\u001b[7;34;45m 7;34;45 \u001b[0m\u001b[7;34;46m 7;34;46 \u001b[0m\u001b[7;34;47m 7;34;47 \u001b[0m\n",
      "\u001b[7;35;40m 7;35;40 \u001b[0m\u001b[7;35;41m 7;35;41 \u001b[0m\u001b[7;35;42m 7;35;42 \u001b[0m\u001b[7;35;43m 7;35;43 \u001b[0m\u001b[7;35;44m 7;35;44 \u001b[0m\u001b[7;35;45m 7;35;45 \u001b[0m\u001b[7;35;46m 7;35;46 \u001b[0m\u001b[7;35;47m 7;35;47 \u001b[0m\n",
      "\u001b[7;36;40m 7;36;40 \u001b[0m\u001b[7;36;41m 7;36;41 \u001b[0m\u001b[7;36;42m 7;36;42 \u001b[0m\u001b[7;36;43m 7;36;43 \u001b[0m\u001b[7;36;44m 7;36;44 \u001b[0m\u001b[7;36;45m 7;36;45 \u001b[0m\u001b[7;36;46m 7;36;46 \u001b[0m\u001b[7;36;47m 7;36;47 \u001b[0m\n",
      "\u001b[7;37;40m 7;37;40 \u001b[0m\u001b[7;37;41m 7;37;41 \u001b[0m\u001b[7;37;42m 7;37;42 \u001b[0m\u001b[7;37;43m 7;37;43 \u001b[0m\u001b[7;37;44m 7;37;44 \u001b[0m\u001b[7;37;45m 7;37;45 \u001b[0m\u001b[7;37;46m 7;37;46 \u001b[0m\u001b[7;37;47m 7;37;47 \u001b[0m\n",
      "\n",
      "\n"
     ]
    }
   ],
   "source": [
    "print_format_table()"
   ]
  },
  {
   "cell_type": "code",
   "execution_count": null,
   "metadata": {
    "collapsed": true
   },
   "outputs": [],
   "source": []
  }
 ],
 "metadata": {
  "kernelspec": {
   "display_name": "Python 2",
   "language": "python",
   "name": "python2"
  },
  "language_info": {
   "codemirror_mode": {
    "name": "ipython",
    "version": 2
   },
   "file_extension": ".py",
   "mimetype": "text/x-python",
   "name": "python",
   "nbconvert_exporter": "python",
   "pygments_lexer": "ipython2",
   "version": "2.7.13"
  }
 },
 "nbformat": 4,
 "nbformat_minor": 0
}
